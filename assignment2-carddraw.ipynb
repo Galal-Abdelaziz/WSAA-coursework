{
 "cells": [
  {
   "cell_type": "markdown",
   "metadata": {},
   "source": [
    "# Weekly Assignment 02\n",
    "\n",
    "Author: Galal Abdelaziz\n",
    "\n",
    "File Name: assignment2-carddraw.ipynb\n",
    "\n",
    "Task: Create a jupyter notebook called assignment2-carddraw the program will \"shuffle\", \"get the deck_id\" and \"deals\" (prints out) 5 cards.\n",
    "Also, Checks if the user has drawn a pair, triple, straight, or all of the same suit and congratulate the user."
   ]
  },
  {
   "cell_type": "code",
   "execution_count": 109,
   "metadata": {},
   "outputs": [],
   "source": [
    "import requests"
   ]
  },
  {
   "cell_type": "code",
   "execution_count": 110,
   "metadata": {},
   "outputs": [
    {
     "name": "stdout",
     "output_type": "stream",
     "text": [
      "Deck ID: 1nvtnux3dbu6\n"
     ]
    }
   ],
   "source": [
    "# Shuffle the deck and get the deck_id\n",
    "shuffle_url = \"https://deckofcardsapi.com/api/deck/new/shuffle/?deck_count=1\"\n",
    "response = requests.get(shuffle_url)\n",
    "deck_info = response.json()\n",
    "deck_id = deck_info['deck_id']\n",
    "print(f\"Deck ID: {deck_id}\")"
   ]
  },
  {
   "cell_type": "code",
   "execution_count": 111,
   "metadata": {},
   "outputs": [
    {
     "name": "stdout",
     "output_type": "stream",
     "text": [
      "10 of DIAMONDS\n",
      "7 of SPADES\n",
      "4 of SPADES\n",
      "6 of SPADES\n",
      "6 of CLUBS\n"
     ]
    }
   ],
   "source": [
    "# Draw 5 cards from the deck\n",
    "draw_url = f\"https://deckofcardsapi.com/api/deck/{deck_id}/draw/?count=5\"\n",
    "response = requests.get(draw_url)\n",
    "cards = response.json()['cards']\n",
    "\n",
    "# Print the value and suit of each card\n",
    "for card in cards:\n",
    "    print(f\"{card['value']} of {card['suit']}\")"
   ]
  },
  {
   "cell_type": "code",
   "execution_count": 112,
   "metadata": {},
   "outputs": [
    {
     "name": "stdout",
     "output_type": "stream",
     "text": [
      "Congratulations! You have a pair.\n"
     ]
    }
   ],
   "source": [
    "# Function to convert card values to numerical values\n",
    "def card_value(card):\n",
    "    if card == 'JACK':\n",
    "        return 11\n",
    "    elif card == 'QUEEN':\n",
    "        return 12\n",
    "    elif card == 'KING':\n",
    "        return 13\n",
    "    elif card == 'ACE':\n",
    "        return 14  # Ace is high\n",
    "    else:\n",
    "        return int(card)  # Numeric cards\n",
    "\n",
    "# Check for pairs, triples, straights, or flush\n",
    "values = [card['value'] for card in cards]\n",
    "suits = [card['suit'] for card in cards]\n",
    "\n",
    "# Convert card values to numerical values for straight checking\n",
    "numeric_values = [card_value(value) for value in values]\n",
    "\n",
    "# Count occurrences of each value\n",
    "value_counts = {value: values.count(value) for value in set(values)}\n",
    "max_count = max(value_counts.values())\n",
    "\n",
    "# Check for flush\n",
    "is_flush = len(set(suits)) == 1\n",
    "\n",
    "# Determine hand value\n",
    "if max_count == 3:\n",
    "    hand_value = \"triple\"\n",
    "elif max_count == 2:\n",
    "    hand_value = \"pair\"\n",
    "elif is_flush:\n",
    "    hand_value = \"flush\"\n",
    "elif len(set(numeric_values)) == 5 and (max(numeric_values) - min(numeric_values) == 4):\n",
    "    hand_value = \"straight\"\n",
    "else:\n",
    "    hand_value = \"no special hand\"\n",
    "\n",
    "# Print appropriate message based on hand value\n",
    "if hand_value == \"no special hand\":\n",
    "    print(\"Sorry, you have no special hand.\")\n",
    "else:\n",
    "    print(f\"Congratulations! You have a {hand_value}.\")"
   ]
  }
 ],
 "metadata": {
  "kernelspec": {
   "display_name": "base",
   "language": "python",
   "name": "python3"
  },
  "language_info": {
   "codemirror_mode": {
    "name": "ipython",
    "version": 3
   },
   "file_extension": ".py",
   "mimetype": "text/x-python",
   "name": "python",
   "nbconvert_exporter": "python",
   "pygments_lexer": "ipython3",
   "version": "3.11.5"
  }
 },
 "nbformat": 4,
 "nbformat_minor": 2
}
